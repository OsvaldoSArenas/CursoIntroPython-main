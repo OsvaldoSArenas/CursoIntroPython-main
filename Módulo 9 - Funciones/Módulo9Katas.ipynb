{
  "cells": [
    {
      "cell_type": "markdown",
      "metadata": {},
      "source": [
        "# Ejercicio: Uso de funciones en Python"
      ]
    },
    {
      "cell_type": "markdown",
      "metadata": {},
      "source": [
        "### Ejercicio 1: Trabajar con argumentos en funciones\n",
        "\n",
        "Los argumentos requeridos en las funciones se utilizan cuando las funciones necesitan que esos argumentos funcionen correctamente. En este ejercicio, construirás un informe de combustible que requiere información de varias ubicaciones de combustible en todo el cohete.\n",
        "\n"
      ]
    },
    {
      "cell_type": "markdown",
      "metadata": {},
      "source": [
        "> **TIP**\n",
        "> Dedica unos minutos para tratar de encontrar una solución. Luego desplázate hacia abajo hasta la parte inferior para ver si has logrado compilar el programa de acuerdo con las especificaciones\n",
        "\n",
        "Comienza por crear una función que necesite tres lecturas de combustible y devuelva un informe:"
      ]
    },
    {
      "cell_type": "code",
      "execution_count": 1,
      "metadata": {},
      "outputs": [],
      "source": [
        "# Función para leer 3 tanques de combustible y muestre el promedio\n",
        "def informe_promedio(tanque_a, tanque_b, tanque_c):\n",
        "    promedio = (tanque_a + tanque_b + tanque_c) / 3\n",
        "    return f\"\"\"Reporte:\n",
        "    Promedio total: {promedio}%\n",
        "    Tanque A: {tanque_a}%\n",
        "    Tanque B: {tanque_b}%\n",
        "    Tanque C: {tanque_c}% \n",
        "    \"\"\""
      ]
    },
    {
      "cell_type": "markdown",
      "metadata": {},
      "source": [
        "Ahora que hemos definido la función de informes, vamos a comprobarlo. Para esta misión, los tanques no están llenos:"
      ]
    },
    {
      "cell_type": "code",
      "execution_count": 2,
      "metadata": {},
      "outputs": [
        {
          "name": "stdout",
          "output_type": "stream",
          "text": [
            "Reporte:\n",
            "    Promedio total: 20.0%\n",
            "    Tanque A: 10%\n",
            "    Tanque B: 15%\n",
            "    Tanque C: 35% \n",
            "    \n"
          ]
        }
      ],
      "source": [
        "\n",
        "# Llamamos a la función que genera el reporte print(funcion(tanque1, tanque2, tanque3))\n",
        "print(informe_promedio(10, 15, 35))"
      ]
    },
    {
      "cell_type": "markdown",
      "metadata": {},
      "source": [
        "En lugar de simplemente crear el informe, la función también está calculando el promedio. Mejora la legibilidad extrayendo el cálculo promedio de la función en una nueva función para que el promedio se pueda hacer de forma independiente:"
      ]
    },
    {
      "cell_type": "code",
      "execution_count": 9,
      "metadata": {},
      "outputs": [],
      "source": [
        "# Función promedio \n",
        "def prom(*args):\n",
        "    total = sum(args)\n",
        "    cantidad = len(args)\n",
        "    return total / cantidad\n"
      ]
    },
    {
      "cell_type": "markdown",
      "metadata": {},
      "source": [
        "Ahora actualiza la función de informes para llamando a la nueva función del promedio:\n"
      ]
    },
    {
      "cell_type": "code",
      "execution_count": 10,
      "metadata": {},
      "outputs": [
        {
          "name": "stdout",
          "output_type": "stream",
          "text": [
            "Reporte:\n",
            "    Promedio total: 20.0%\n",
            "    Tanque A: 10%\n",
            "    Tanque B: 15%\n",
            "    Tanque C: 35% \n",
            "    \n"
          ]
        }
      ],
      "source": [
        "# Actualiza la función\n",
        "def informe_promedio(tanque_a, tanque_b, tanque_c):\n",
        "    return f\"\"\"Reporte:\n",
        "    Promedio total: {prom(tanque_a, tanque_b, tanque_c)}%\n",
        "    Tanque A: {tanque_a}%\n",
        "    Tanque B: {tanque_b}%\n",
        "    Tanque C: {tanque_c}% \n",
        "    \"\"\"\n",
        "\n",
        "print(informe_promedio(10, 15, 35))"
      ]
    },
    {
      "cell_type": "markdown",
      "metadata": {},
      "source": [
        "> Recuerda: Lo importante es intentarlo, puedes auxiliarte de internet, libros, etc. El objetivo de una kata es la comprobación de la comprensión de la lección y su aplicación inmediata a la resolución de problemas. Go for it!"
      ]
    },
    {
      "cell_type": "markdown",
      "metadata": {},
      "source": [
        "## Ejercicio 2: Trabajo con argumentos de palabra clave"
      ]
    },
    {
      "cell_type": "markdown",
      "metadata": {},
      "source": [
        "### Ejercicio : Trabajar con argumentos de palabras clave en funciones\n",
        "En este ejercicio, construirás un informe de cohete que requiere varias piezas de información, como el tiempo hasta el destino, el combustible a la izquierda y el nombre del destino. Comienza por crear una función que creará un informe preciso de la misión:"
      ]
    },
    {
      "cell_type": "code",
      "execution_count": 12,
      "metadata": {},
      "outputs": [
        {
          "name": "stdout",
          "output_type": "stream",
          "text": [
            "\n",
            "    Mision a Marte\n",
            "    Tiempo hasta el destino: 66 minutos\n",
            "    Combustible disponible total: 13000000 galones\n",
            "    \n"
          ]
        }
      ],
      "source": [
        "# Función con un informe preciso de la misión. Considera hora de prelanzamiento, tiempo de vuelo, destino, tanque externo y tanque interno\n",
        "def informe_cohete(pre_lanzamiento, tiempo_vuelo, destino, tanque_externo, tanque_interno):\n",
        "    return f\"\"\"\n",
        "    Mision a {destino}\n",
        "    Tiempo hasta el destino: {pre_lanzamiento + tiempo_vuelo} minutos\n",
        "    Combustible disponible total: {tanque_externo + tanque_interno} galones\n",
        "    \"\"\"\n",
        "\n",
        "print(informe_cohete(15, 51, \"Marte\", 5000000, 8000000))"
      ]
    },
    {
      "cell_type": "markdown",
      "metadata": {},
      "source": [
        "La función es problemática porque no se puede adaptar para minutos adicionales o tanques adicionales de combustible. Hazlo más flexible permitiendo cualquier número de pasos basados en el tiempo y cualquier número de tanques. En lugar de usar `*args` y `**kwargs`, aprovecha el hecho de que puedes usar cualquier nombre que desees. Asegurate que la función sea más legible mediante el uso de nombres de variables que están asociados con las entradas, como `*minutes` y `**fuel_reservoirs`:"
      ]
    },
    {
      "cell_type": "code",
      "execution_count": 21,
      "metadata": {},
      "outputs": [
        {
          "name": "stdout",
          "output_type": "stream",
          "text": [
            "\n",
            "    Mision a Jupiter\n",
            "    Tiempo hasta el destino: 205 minutos\n",
            "    Combustible total: 13000000 galones\n",
            "    \n"
          ]
        }
      ],
      "source": [
        "# Escribe tu nueva función de reporte considerando lo anterior\n",
        "def reporte_mision(destino, *minutos, **tanque_combustible):\n",
        "    reporte = f\"\"\"\n",
        "    Mision a {destino}\n",
        "    Tiempo hasta el destino: {sum(minutos)} minutos\n",
        "    Combustible total: {sum(tanque_combustible.values())} galones\n",
        "    \"\"\"\n",
        "    return reporte\n",
        "\n",
        "print(reporte_mision(\"Jupiter\", 5, 20, 180, tanque_a=5000000, tanque_b=8000000))"
      ]
    },
    {
      "cell_type": "markdown",
      "metadata": {},
      "source": [
        "Debido a que el combustible que queda en los tanques es específico de cada tanque, actualiza la función para usar el nombre de cada tanque en el informe:"
      ]
    },
    {
      "cell_type": "code",
      "execution_count": 22,
      "metadata": {},
      "outputs": [
        {
          "name": "stdout",
          "output_type": "stream",
          "text": [
            "\n",
            "    Mision a Jupiter\n",
            "    Tiempo hasta el destino: 205 minutos\n",
            "    Combustible total: 13000000 galones\n",
            "    \t tanque_a --> 5000000 galones disponibles\n",
            " \t tanque_b --> 8000000 galones disponibles\n",
            " \n"
          ]
        }
      ],
      "source": [
        "# Escribe tu nueva función\n",
        "def reporte_mision(destino, *minutos, **tanque_combustible):\n",
        "    reporte = f\"\"\"\n",
        "    Mision a {destino}\n",
        "    Tiempo hasta el destino: {sum(minutos)} minutos\n",
        "    Combustible total: {sum(tanque_combustible.values())} galones\n",
        "    \"\"\"\n",
        "    for tanque, galones in tanque_combustible.items():\n",
        "        reporte += f\"\\t {tanque} --> {galones} galones disponibles\\n \"\n",
        "    return reporte\n",
        "\n",
        "print(reporte_mision(\"Jupiter\", 5, 20, 180, tanque_a=5000000, tanque_b=8000000))"
      ]
    },
    {
      "cell_type": "markdown",
      "metadata": {},
      "source": [
        "---\n",
        "\n",
        "Curso Propedútico de Python para Launch X - Innovacción Virtual.\n",
        "\n",
        "Material desarrollado con base en los contenidos de MSLearn y la metáfora de LaunchX, traducción e implementación por: Fernanda Ochoa - Learning Producer de LaunchX.\n",
        "\n",
        "Redes:\n",
        "* GitHub: [FernandaOchoa](https://github.com/FernandaOchoa)\n",
        "* Twitter: [@imonsh](https://twitter.com/imonsh)\n",
        "* Instagram: [fherz8a](https://www.instagram.com/fherz8a/)"
      ]
    }
  ],
  "metadata": {
    "interpreter": {
      "hash": "205095b8b86ea82a021a8fc2ffba2b3bc9f8d0be25999901963b225939f75778"
    },
    "kernelspec": {
      "display_name": "Python 3.8.10 64-bit ('tmp': conda)",
      "name": "python3"
    },
    "language_info": {
      "codemirror_mode": {
        "name": "ipython",
        "version": 3
      },
      "file_extension": ".py",
      "mimetype": "text/x-python",
      "name": "python",
      "nbconvert_exporter": "python",
      "pygments_lexer": "ipython3",
      "version": "3.10.1"
    },
    "nteract": {
      "version": "nteract-front-end@1.0.0"
    },
    "orig_nbformat": 4
  },
  "nbformat": 4,
  "nbformat_minor": 2
}
